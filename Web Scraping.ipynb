{
 "cells": [
  {
   "cell_type": "code",
   "execution_count": 1,
   "metadata": {},
   "outputs": [],
   "source": [
    "#Importing required Libraries\n",
    "import requests\n",
    "from bs4 import BeautifulSoup"
   ]
  },
  {
   "cell_type": "code",
   "execution_count": 7,
   "metadata": {},
   "outputs": [
    {
     "name": "stdout",
     "output_type": "stream",
     "text": [
      "<Response [200]>\n",
      "<div class=\"tombstone-container\">\n",
      " <p class=\"period-name\">\n",
      "  Overnight\n",
      "  <br/>\n",
      "  <br/>\n",
      " </p>\n",
      " <p>\n",
      "  <img alt=\"Overnight: Clear, with a low around 56. West southwest wind around 5 mph. \" class=\"forecast-icon\" src=\"newimages/medium/nskc.png\" title=\"Overnight: Clear, with a low around 56. West southwest wind around 5 mph. \"/>\n",
      " </p>\n",
      " <p class=\"short-desc\">\n",
      "  Clear\n",
      " </p>\n",
      " <p class=\"temp temp-low\">\n",
      "  Low: 56 °F\n",
      " </p>\n",
      "</div>\n"
     ]
    }
   ],
   "source": [
    "##Creating the object to hold to page source content\n",
    "page= requests.get(\"https://forecast.weather.gov/MapClick.php?lat=37.7772&lon=-122.4168#.XmHyzW5uIcB\")\n",
    "print(page)\n",
    "\n",
    "##Creating an object to store the page source in proper html format\n",
    "soup= BeautifulSoup(page.content, 'html.parser')\n",
    "#print(soup)\n",
    "\n",
    "##Storing page source belonging to store the page source in proper html format\n",
    "seven_day= soup.find(id=\"seven-day-forecast\")\n",
    "#print(seven_day)\n",
    "\n",
    "##Finding all instances of a particular class tag within the id and storing it to object\n",
    "forecast_items = seven_day.find_all(class_=\"tombstone-container\")\n",
    "#print(forecast_items)\n",
    "\n",
    "tonight= forecast_items[0]\n",
    "print(tonight.prettify())"
   ]
  },
  {
   "cell_type": "markdown",
   "metadata": {},
   "source": [
    "# Creating Objects out of Unstructured Data"
   ]
  },
  {
   "cell_type": "code",
   "execution_count": 9,
   "metadata": {},
   "outputs": [
    {
     "name": "stdout",
     "output_type": "stream",
     "text": [
      "Overnight\n",
      "Clear\n",
      "Low: 56 °F\n"
     ]
    }
   ],
   "source": [
    "##Extracting the values of sub tags\n",
    "period = tonight.find (class_=\"period-name\").get_text()\n",
    "short_desc= tonight.find(class_=\"short-desc\").get_text()\n",
    "temp = tonight.find (class_=\"temp temp-low\").get_text()\n",
    "\n",
    "print(period)\n",
    "print(short_desc)\n",
    "print(temp)"
   ]
  },
  {
   "cell_type": "code",
   "execution_count": 10,
   "metadata": {},
   "outputs": [
    {
     "name": "stdout",
     "output_type": "stream",
     "text": [
      "Overnight: Clear, with a low around 56. West southwest wind around 5 mph. \n"
     ]
    }
   ],
   "source": [
    "##Extracting the title part of the img tag\n",
    "img=tonight.find(\"img\")\n",
    "desc=img['title']\n",
    "print(desc)"
   ]
  },
  {
   "cell_type": "code",
   "execution_count": 11,
   "metadata": {},
   "outputs": [
    {
     "name": "stdout",
     "output_type": "stream",
     "text": [
      "['Overnight', 'Monday', 'MondayNight', 'Tuesday', 'TuesdayNight', 'Wednesday', 'WednesdayNight', 'Thursday', 'ThursdayNight']\n"
     ]
    }
   ],
   "source": [
    "##Extracting all values for the period tag from the entire object\n",
    "period_tags=seven_day.select(\".tombstone-container .period-name\")\n",
    "periods=[pt.get_text() for pt in period_tags]\n",
    "print(periods)"
   ]
  },
  {
   "cell_type": "code",
   "execution_count": 12,
   "metadata": {},
   "outputs": [
    {
     "name": "stdout",
     "output_type": "stream",
     "text": [
      "['Clear', 'Sunny', 'Mostly Clear', 'Sunny', 'Mostly Clear', 'Sunny', 'Mostly Clear', 'Mostly Sunny', 'Mostly Clear']\n",
      "\n",
      "['Low: 56 °F', 'High: 73 °F', 'Low: 56 °F', 'High: 71 °F', 'Low: 55 °F', 'High: 69 °F', 'Low: 56 °F', 'High: 68 °F', 'Low: 56 °F']\n",
      "\n",
      "['Overnight: Clear, with a low around 56. West southwest wind around 5 mph. ', 'Monday: Sunny, with a high near 73. Light and variable wind becoming west 10 to 15 mph in the afternoon. Winds could gust as high as 20 mph. ', 'Monday Night: Mostly clear, with a low around 56. West southwest wind 11 to 16 mph decreasing to 5 to 10 mph in the evening. Winds could gust as high as 21 mph. ', 'Tuesday: Sunny, with a high near 71. Light southwest wind becoming west southwest 9 to 14 mph in the afternoon. ', 'Tuesday Night: Mostly clear, with a low around 55. West southwest wind 9 to 11 mph. ', 'Wednesday: Sunny, with a high near 69.', 'Wednesday Night: Mostly clear, with a low around 56.', 'Thursday: Mostly sunny, with a high near 68.', 'Thursday Night: Mostly clear, with a low around 56.']\n"
     ]
    }
   ],
   "source": [
    "##Similarly extracting the other tags also from the entire object\n",
    "short_descs = [sd.get_text() for sd in seven_day.select(\".tombstone-container  .short-desc\")]\n",
    "temps = [t.get_text() for t in seven_day.select(\".tombstone-container .temp\")]\n",
    "descs = [d[\"title\"] for d in seven_day.select(\".tombstone-container img\")]\n",
    "\n",
    "print(short_descs)\n",
    "print()\n",
    "print(temps)\n",
    "print()\n",
    "print(descs)"
   ]
  },
  {
   "cell_type": "markdown",
   "metadata": {},
   "source": [
    "# Creating Dataframe from Raw Data"
   ]
  },
  {
   "cell_type": "code",
   "execution_count": 14,
   "metadata": {},
   "outputs": [
    {
     "data": {
      "text/html": [
       "<div>\n",
       "<style scoped>\n",
       "    .dataframe tbody tr th:only-of-type {\n",
       "        vertical-align: middle;\n",
       "    }\n",
       "\n",
       "    .dataframe tbody tr th {\n",
       "        vertical-align: top;\n",
       "    }\n",
       "\n",
       "    .dataframe thead th {\n",
       "        text-align: right;\n",
       "    }\n",
       "</style>\n",
       "<table border=\"1\" class=\"dataframe\">\n",
       "  <thead>\n",
       "    <tr style=\"text-align: right;\">\n",
       "      <th></th>\n",
       "      <th>period</th>\n",
       "      <th>short_desc</th>\n",
       "      <th>temp</th>\n",
       "      <th>desc</th>\n",
       "    </tr>\n",
       "  </thead>\n",
       "  <tbody>\n",
       "    <tr>\n",
       "      <th>0</th>\n",
       "      <td>Overnight</td>\n",
       "      <td>Clear</td>\n",
       "      <td>Low: 56 °F</td>\n",
       "      <td>Overnight: Clear, with a low around 56. West s...</td>\n",
       "    </tr>\n",
       "    <tr>\n",
       "      <th>1</th>\n",
       "      <td>Monday</td>\n",
       "      <td>Sunny</td>\n",
       "      <td>High: 73 °F</td>\n",
       "      <td>Monday: Sunny, with a high near 73. Light and ...</td>\n",
       "    </tr>\n",
       "    <tr>\n",
       "      <th>2</th>\n",
       "      <td>MondayNight</td>\n",
       "      <td>Mostly Clear</td>\n",
       "      <td>Low: 56 °F</td>\n",
       "      <td>Monday Night: Mostly clear, with a low around ...</td>\n",
       "    </tr>\n",
       "    <tr>\n",
       "      <th>3</th>\n",
       "      <td>Tuesday</td>\n",
       "      <td>Sunny</td>\n",
       "      <td>High: 71 °F</td>\n",
       "      <td>Tuesday: Sunny, with a high near 71. Light sou...</td>\n",
       "    </tr>\n",
       "    <tr>\n",
       "      <th>4</th>\n",
       "      <td>TuesdayNight</td>\n",
       "      <td>Mostly Clear</td>\n",
       "      <td>Low: 55 °F</td>\n",
       "      <td>Tuesday Night: Mostly clear, with a low around...</td>\n",
       "    </tr>\n",
       "    <tr>\n",
       "      <th>5</th>\n",
       "      <td>Wednesday</td>\n",
       "      <td>Sunny</td>\n",
       "      <td>High: 69 °F</td>\n",
       "      <td>Wednesday: Sunny, with a high near 69.</td>\n",
       "    </tr>\n",
       "    <tr>\n",
       "      <th>6</th>\n",
       "      <td>WednesdayNight</td>\n",
       "      <td>Mostly Clear</td>\n",
       "      <td>Low: 56 °F</td>\n",
       "      <td>Wednesday Night: Mostly clear, with a low arou...</td>\n",
       "    </tr>\n",
       "    <tr>\n",
       "      <th>7</th>\n",
       "      <td>Thursday</td>\n",
       "      <td>Mostly Sunny</td>\n",
       "      <td>High: 68 °F</td>\n",
       "      <td>Thursday: Mostly sunny, with a high near 68.</td>\n",
       "    </tr>\n",
       "    <tr>\n",
       "      <th>8</th>\n",
       "      <td>ThursdayNight</td>\n",
       "      <td>Mostly Clear</td>\n",
       "      <td>Low: 56 °F</td>\n",
       "      <td>Thursday Night: Mostly clear, with a low aroun...</td>\n",
       "    </tr>\n",
       "  </tbody>\n",
       "</table>\n",
       "</div>"
      ],
      "text/plain": [
       "           period    short_desc         temp  \\\n",
       "0       Overnight         Clear   Low: 56 °F   \n",
       "1          Monday         Sunny  High: 73 °F   \n",
       "2     MondayNight  Mostly Clear   Low: 56 °F   \n",
       "3         Tuesday         Sunny  High: 71 °F   \n",
       "4    TuesdayNight  Mostly Clear   Low: 55 °F   \n",
       "5       Wednesday         Sunny  High: 69 °F   \n",
       "6  WednesdayNight  Mostly Clear   Low: 56 °F   \n",
       "7        Thursday  Mostly Sunny  High: 68 °F   \n",
       "8   ThursdayNight  Mostly Clear   Low: 56 °F   \n",
       "\n",
       "                                                desc  \n",
       "0  Overnight: Clear, with a low around 56. West s...  \n",
       "1  Monday: Sunny, with a high near 73. Light and ...  \n",
       "2  Monday Night: Mostly clear, with a low around ...  \n",
       "3  Tuesday: Sunny, with a high near 71. Light sou...  \n",
       "4  Tuesday Night: Mostly clear, with a low around...  \n",
       "5             Wednesday: Sunny, with a high near 69.  \n",
       "6  Wednesday Night: Mostly clear, with a low arou...  \n",
       "7       Thursday: Mostly sunny, with a high near 68.  \n",
       "8  Thursday Night: Mostly clear, with a low aroun...  "
      ]
     },
     "execution_count": 14,
     "metadata": {},
     "output_type": "execute_result"
    }
   ],
   "source": [
    "###Combining all tags and creating a dataframe out of it\n",
    "import pandas as pd\n",
    "weather = pd.DataFrame({\"period\":periods, \"short_desc\":short_descs, \"temp\":temps,\n",
    "                        \"desc\":descs\n",
    "                    \n",
    "})\n",
    "weather"
   ]
  },
  {
   "cell_type": "markdown",
   "metadata": {},
   "source": [
    "# Splitting the Values in \"desc\" Variable"
   ]
  },
  {
   "cell_type": "code",
   "execution_count": 15,
   "metadata": {},
   "outputs": [
    {
     "name": "stdout",
     "output_type": "stream",
     "text": [
      "                 0                                                  1\n",
      "0        Overnight   Clear, with a low around 56. West southwest w...\n",
      "1           Monday   Sunny, with a high near 73. Light and variabl...\n",
      "2     Monday Night   Mostly clear, with a low around 56. West sout...\n",
      "3          Tuesday   Sunny, with a high near 71. Light southwest w...\n",
      "4    Tuesday Night   Mostly clear, with a low around 55. West sout...\n",
      "5        Wednesday                        Sunny, with a high near 69.\n",
      "6  Wednesday Night                Mostly clear, with a low around 56.\n",
      "7         Thursday                 Mostly sunny, with a high near 68.\n",
      "8   Thursday Night                Mostly clear, with a low around 56.\n"
     ]
    }
   ],
   "source": [
    "###\"desc\" has the text that contains the values of \"period\" also\n",
    "###Trying to split the \"desc\" string such that the \"period\" part is removed\n",
    "new= weather[\"desc\"].str.split(\":\",expand=True)\n",
    "print(new)"
   ]
  },
  {
   "cell_type": "code",
   "execution_count": 16,
   "metadata": {},
   "outputs": [
    {
     "data": {
      "text/html": [
       "<div>\n",
       "<style scoped>\n",
       "    .dataframe tbody tr th:only-of-type {\n",
       "        vertical-align: middle;\n",
       "    }\n",
       "\n",
       "    .dataframe tbody tr th {\n",
       "        vertical-align: top;\n",
       "    }\n",
       "\n",
       "    .dataframe thead th {\n",
       "        text-align: right;\n",
       "    }\n",
       "</style>\n",
       "<table border=\"1\" class=\"dataframe\">\n",
       "  <thead>\n",
       "    <tr style=\"text-align: right;\">\n",
       "      <th></th>\n",
       "      <th>period</th>\n",
       "      <th>short_desc</th>\n",
       "      <th>temp</th>\n",
       "      <th>desc</th>\n",
       "    </tr>\n",
       "  </thead>\n",
       "  <tbody>\n",
       "    <tr>\n",
       "      <th>0</th>\n",
       "      <td>Overnight</td>\n",
       "      <td>Clear</td>\n",
       "      <td>Low: 56 °F</td>\n",
       "      <td>Clear, with a low around 56. West southwest w...</td>\n",
       "    </tr>\n",
       "    <tr>\n",
       "      <th>1</th>\n",
       "      <td>Monday</td>\n",
       "      <td>Sunny</td>\n",
       "      <td>High: 73 °F</td>\n",
       "      <td>Sunny, with a high near 73. Light and variabl...</td>\n",
       "    </tr>\n",
       "    <tr>\n",
       "      <th>2</th>\n",
       "      <td>MondayNight</td>\n",
       "      <td>Mostly Clear</td>\n",
       "      <td>Low: 56 °F</td>\n",
       "      <td>Mostly clear, with a low around 56. West sout...</td>\n",
       "    </tr>\n",
       "    <tr>\n",
       "      <th>3</th>\n",
       "      <td>Tuesday</td>\n",
       "      <td>Sunny</td>\n",
       "      <td>High: 71 °F</td>\n",
       "      <td>Sunny, with a high near 71. Light southwest w...</td>\n",
       "    </tr>\n",
       "    <tr>\n",
       "      <th>4</th>\n",
       "      <td>TuesdayNight</td>\n",
       "      <td>Mostly Clear</td>\n",
       "      <td>Low: 55 °F</td>\n",
       "      <td>Mostly clear, with a low around 55. West sout...</td>\n",
       "    </tr>\n",
       "    <tr>\n",
       "      <th>5</th>\n",
       "      <td>Wednesday</td>\n",
       "      <td>Sunny</td>\n",
       "      <td>High: 69 °F</td>\n",
       "      <td>Sunny, with a high near 69.</td>\n",
       "    </tr>\n",
       "    <tr>\n",
       "      <th>6</th>\n",
       "      <td>WednesdayNight</td>\n",
       "      <td>Mostly Clear</td>\n",
       "      <td>Low: 56 °F</td>\n",
       "      <td>Mostly clear, with a low around 56.</td>\n",
       "    </tr>\n",
       "    <tr>\n",
       "      <th>7</th>\n",
       "      <td>Thursday</td>\n",
       "      <td>Mostly Sunny</td>\n",
       "      <td>High: 68 °F</td>\n",
       "      <td>Mostly sunny, with a high near 68.</td>\n",
       "    </tr>\n",
       "    <tr>\n",
       "      <th>8</th>\n",
       "      <td>ThursdayNight</td>\n",
       "      <td>Mostly Clear</td>\n",
       "      <td>Low: 56 °F</td>\n",
       "      <td>Mostly clear, with a low around 56.</td>\n",
       "    </tr>\n",
       "  </tbody>\n",
       "</table>\n",
       "</div>"
      ],
      "text/plain": [
       "           period    short_desc         temp  \\\n",
       "0       Overnight         Clear   Low: 56 °F   \n",
       "1          Monday         Sunny  High: 73 °F   \n",
       "2     MondayNight  Mostly Clear   Low: 56 °F   \n",
       "3         Tuesday         Sunny  High: 71 °F   \n",
       "4    TuesdayNight  Mostly Clear   Low: 55 °F   \n",
       "5       Wednesday         Sunny  High: 69 °F   \n",
       "6  WednesdayNight  Mostly Clear   Low: 56 °F   \n",
       "7        Thursday  Mostly Sunny  High: 68 °F   \n",
       "8   ThursdayNight  Mostly Clear   Low: 56 °F   \n",
       "\n",
       "                                                desc  \n",
       "0   Clear, with a low around 56. West southwest w...  \n",
       "1   Sunny, with a high near 73. Light and variabl...  \n",
       "2   Mostly clear, with a low around 56. West sout...  \n",
       "3   Sunny, with a high near 71. Light southwest w...  \n",
       "4   Mostly clear, with a low around 55. West sout...  \n",
       "5                        Sunny, with a high near 69.  \n",
       "6                Mostly clear, with a low around 56.  \n",
       "7                 Mostly sunny, with a high near 68.  \n",
       "8                Mostly clear, with a low around 56.  "
      ]
     },
     "execution_count": 16,
     "metadata": {},
     "output_type": "execute_result"
    }
   ],
   "source": [
    "##Fetching the other part and replacing the desc variable\n",
    "weather[\"desc\"]=new[1]\n",
    "weather"
   ]
  },
  {
   "cell_type": "code",
   "execution_count": 17,
   "metadata": {},
   "outputs": [],
   "source": [
    "weather.to_excel(\"Weather_details.xlsx\",header=True)"
   ]
  },
  {
   "cell_type": "code",
   "execution_count": 18,
   "metadata": {},
   "outputs": [],
   "source": [
    "import cv2"
   ]
  },
  {
   "cell_type": "code",
   "execution_count": null,
   "metadata": {},
   "outputs": [],
   "source": []
  }
 ],
 "metadata": {
  "kernelspec": {
   "display_name": "Python 3",
   "language": "python",
   "name": "python3"
  },
  "language_info": {
   "codemirror_mode": {
    "name": "ipython",
    "version": 3
   },
   "file_extension": ".py",
   "mimetype": "text/x-python",
   "name": "python",
   "nbconvert_exporter": "python",
   "pygments_lexer": "ipython3",
   "version": "3.7.3"
  }
 },
 "nbformat": 4,
 "nbformat_minor": 2
}
